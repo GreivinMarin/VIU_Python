{
 "cells": [
  {
   "cell_type": "markdown",
   "id": "2ad824ac-4070-4908-bcdf-fcc5fa61b648",
   "metadata": {},
   "source": [
    "<h1>API Valencia polución</h1>\n",
    "\n",
    "url: https://valencia.opendatasoft.com/explore/dataset/estacions-contaminacio-atmosferiques-estaciones-contaminacion-atmosfericas/information/?location=13,39.46576,-0.36855&basemap=e4bf90"
   ]
  },
  {
   "cell_type": "code",
   "execution_count": 7,
   "id": "2555611c-08a9-4d5a-8c26-a037132bf0dc",
   "metadata": {},
   "outputs": [],
   "source": [
    "from time import sleep\n",
    "from os import path\n",
    "\n",
    "import requests\n",
    "import datetime\n",
    "import pandas as pd"
   ]
  },
  {
   "cell_type": "code",
   "execution_count": 8,
   "id": "1ffafee9-6682-46a8-af51-1a4b6b1b9210",
   "metadata": {},
   "outputs": [],
   "source": [
    "def make_request(base_url, params):\n",
    "    response = requests.get(base_url, params=params)\n",
    "    if response:\n",
    "        return response.json()\n",
    "    else:\n",
    "        raise Exception(\"Error Downloading JSON\")"
   ]
  },
  {
   "cell_type": "code",
   "execution_count": 9,
   "id": "b8d176bd-5bb3-404a-a367-235b25f70c68",
   "metadata": {},
   "outputs": [],
   "source": [
    "base_url = \"https://valencia.opendatasoft.com/api/explore/v2.1/catalog/datasets/estacions-contaminacio-atmosferiques-estaciones-contaminacion-atmosfericas/records\""
   ]
  },
  {
   "cell_type": "code",
   "execution_count": 10,
   "id": "24fa0ce6-b8b3-41b7-94c7-a955f131f705",
   "metadata": {},
   "outputs": [
    {
     "name": "stdout",
     "output_type": "stream",
     "text": [
      "Total Number of Active Stations = 11\n"
     ]
    }
   ],
   "source": [
    "params = {'limit': 0}\n",
    "n_stations = make_request(base_url, params)['total_count']\n",
    "print(f\"Total Number of Active Stations = {n_stations}\")"
   ]
  },
  {
   "cell_type": "code",
   "execution_count": 11,
   "id": "ac4d1407-7524-4a19-851d-448435ee35da",
   "metadata": {},
   "outputs": [],
   "source": [
    "first_time = True\n",
    "max_records_per_request = 100\n",
    "\n",
    "current_time = 0\n",
    "sleep_time = 60 * 60\n",
    "total_time = (24 * 60 * 60) + sleep_time\n",
    "#total_time = 1  # Esto parece forzar una única iteración, útil para pruebas\n",
    "\n",
    "path_csv = ['res', 'valencia_pollution_dataset.csv']\n",
    "path_csv_solved = path.join(*path_csv)"
   ]
  },
  {
   "cell_type": "code",
   "execution_count": null,
   "id": "67ef73a9-3c47-4e23-8406-3ec22618e5f9",
   "metadata": {},
   "outputs": [
    {
     "name": "stdout",
     "output_type": "stream",
     "text": [
      "Current Time = 0, Records Processed = 11, fecha y hora: 2025-06-13 09:38:20.547111\n"
     ]
    }
   ],
   "source": [
    "while current_time < total_time:\n",
    "    offset = 0\n",
    "    pollution_list = []\n",
    "\n",
    "    while offset < n_stations:\n",
    "        params = {\n",
    "            \"limit\": max_records_per_request,\n",
    "            \"offset\": offset\n",
    "        }\n",
    "        sub_list = make_request(base_url, params)['results']\n",
    "        pollution_list += sub_list\n",
    "        offset += max_records_per_request\n",
    "\n",
    "    print(f\"Current Time = {current_time}, Records Processed = {len(pollution_list)}, fecha y hora: {datetime.datetime.now()}\")\n",
    "\n",
    "    df = pd.DataFrame(pollution_list, columns=[\n",
    "        'objectid', 'nombre', 'direccion', 'tipozona', 'tipoemisio',\n",
    "        'so2', 'no2', 'o3', 'co', 'pm10', 'pm25', 'fecha_carg',\n",
    "        'calidad_am'\n",
    "    ])\n",
    "\n",
    "    df.to_csv(\n",
    "        path_csv_solved,\n",
    "        sep=';',\n",
    "        header=True if first_time else False,\n",
    "        index=False,\n",
    "        mode='a',\n",
    "        na_rep='N/A'\n",
    "    )\n",
    "\n",
    "    first_time = False\n",
    "    sleep(sleep_time)\n",
    "    current_time += sleep_time"
   ]
  },
  {
   "cell_type": "code",
   "execution_count": null,
   "id": "a04c1076-a365-4438-84b8-f44d5f47a369",
   "metadata": {},
   "outputs": [],
   "source": []
  }
 ],
 "metadata": {
  "kernelspec": {
   "display_name": "Python 3 (ipykernel)",
   "language": "python",
   "name": "python3"
  },
  "language_info": {
   "codemirror_mode": {
    "name": "ipython",
    "version": 3
   },
   "file_extension": ".py",
   "mimetype": "text/x-python",
   "name": "python",
   "nbconvert_exporter": "python",
   "pygments_lexer": "ipython3",
   "version": "3.12.2"
  }
 },
 "nbformat": 4,
 "nbformat_minor": 5
}
