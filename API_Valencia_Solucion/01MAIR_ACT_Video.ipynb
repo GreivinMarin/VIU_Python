{
 "cells": [
  {
   "cell_type": "markdown",
   "metadata": {},
   "source": [
    "\n",
    "## 01MIAR - Actividad Video Valencia Pollution\n",
    "\n",
    "## NumPy y Pandas\n",
    "\n",
    "### Objetivos:\n",
    "- Aplicar diferentes técnicas de tratamiento de estructuras numéricas con Numpy y datos estructurados con Pandas.\n",
    "\n",
    "### Instrucciones:\n",
    "- Mantener una estructura limpia, comentando código y secuenciando los apartados con el código correspondiente que resuelva la actividad.\n",
    "- Como criterio de evaluación se tendrá en cuenta el resultado, la consecución del mismo, estilo, comentarios y adecuación. Siempre será tenido en cuenta cualquier detalle técnico avanzado o no visto en clase relacionado con el tema (explicar el porqué y usabilidad).\n",
    "- No está permitido compartir los resultados ni el código en ninguno de los foros.\n",
    "- Revisar los temas así como las sesiones sobre Numpy y Pandas para aplicar dichos contenidos.\n",
    "- Proponer las respuestas en las celdas a dicho efecto en cada punto, si se necesitan más celdas añadirlas en su sitio correspondiente\n",
    "- Mostrar de manera clara la respuesta a las preguntas, mediante código\n",
    "\n",
    "### Entrega:\n",
    "- Este mismo notebook con las respuetas\n",
    "\n",
    "### Evaluación\n",
    "- Esta actividad corresponde con el 10% de la nota final de la asignatura.\n",
    "\n",
    "### Fecha Realización\n",
    "- Convocatoria 1 - 29/11/2024 00:00 - 29/11/2024 23:59"
   ]
  },
  {
   "cell_type": "markdown",
   "metadata": {},
   "source": [
    "#### Descripción\n",
    "El conjunto de datos \"valencia_pollution_dataset.csv\" (fichero disponible adjunto a la actividad) proviene de una descarga de datos del servicio web del ayuntamiento de la ciudad de Valencia de datos abiertos.\n",
    "\n",
    "Los datos recabados de este servicio web son de mediciones cada hora de una serie de estaciones de contaminación atmosférica.\n",
    "\n",
    "https://valencia.opendatasoft.com/explore/dataset/estacions-contaminacio-atmosferiques-estaciones-contaminacion-atmosfericas/information/\n",
    "\n",
    "Cada estación realiza una serie de mediciones acerca de la calidad del aire, y de ciertas sustancias que se consideran importantes para analizar la contaminación atmosférica en la ciudad.\n",
    "\n",
    "#### Columnas para trabajar:\n",
    "- objectid: id de la estación\n",
    "- nombre: nombre de la estación\n",
    "- dirección: dirección de la estación\n",
    "- tipozona: tipo de la zona, urbana o sub urbana\n",
    "- parámetros: parámetroe medidos\n",
    "- mediciones: fichero de mediciones\n",
    "- tipoemision: tráfico o fondo\n",
    "- so2: niveles de dióxido de azufre\n",
    "- no2: niveles de dióxido de nitrogeno\n",
    "- o3: niveles de ozono\n",
    "- co: niveles de monóxido de carbono\n",
    "- pm10: niveles de partículas en suspensión hasta 10um\n",
    "- pm25: niveles de partículas en suspensión hasta 2,5um\n",
    "- fecha_carga: timestamp de la actualización de los datos\n",
    "- calidad_ambiental: estimación de la calidad del aire\n",
    "- fiwareid: \n",
    "- geo_shape: coordenadas geográficas\n",
    "- geo_point_2d: latitud-longitud"
   ]
  },
  {
   "cell_type": "code",
   "execution_count": 2,
   "metadata": {},
   "outputs": [
    {
     "name": "stdout",
     "output_type": "stream",
     "text": [
      "Requirement already satisfied: matplotlib in c:\\python312\\lib\\site-packages (3.10.3)\n",
      "Requirement already satisfied: contourpy>=1.0.1 in c:\\python312\\lib\\site-packages (from matplotlib) (1.3.2)\n",
      "Requirement already satisfied: cycler>=0.10 in c:\\python312\\lib\\site-packages (from matplotlib) (0.12.1)\n",
      "Requirement already satisfied: fonttools>=4.22.0 in c:\\python312\\lib\\site-packages (from matplotlib) (4.58.4)\n",
      "Requirement already satisfied: kiwisolver>=1.3.1 in c:\\python312\\lib\\site-packages (from matplotlib) (1.4.8)\n",
      "Requirement already satisfied: numpy>=1.23 in c:\\python312\\lib\\site-packages (from matplotlib) (2.2.6)\n",
      "Requirement already satisfied: packaging>=20.0 in c:\\python312\\lib\\site-packages (from matplotlib) (25.0)\n",
      "Requirement already satisfied: pillow>=8 in c:\\python312\\lib\\site-packages (from matplotlib) (11.2.1)\n",
      "Requirement already satisfied: pyparsing>=2.3.1 in c:\\python312\\lib\\site-packages (from matplotlib) (3.2.3)\n",
      "Requirement already satisfied: python-dateutil>=2.7 in c:\\python312\\lib\\site-packages (from matplotlib) (2.9.0.post0)\n",
      "Requirement already satisfied: six>=1.5 in c:\\python312\\lib\\site-packages (from python-dateutil>=2.7->matplotlib) (1.17.0)\n"
     ]
    },
    {
     "name": "stderr",
     "output_type": "stream",
     "text": [
      "\n",
      "[notice] A new release of pip is available: 24.0 -> 25.1.1\n",
      "[notice] To update, run: python.exe -m pip install --upgrade pip\n"
     ]
    }
   ],
   "source": [
    "# Installs\n",
    "!pip install matplotlib"
   ]
  },
  {
   "cell_type": "code",
   "execution_count": 11,
   "metadata": {
    "tags": []
   },
   "outputs": [],
   "source": [
    "# Your imports here...\n",
    "import pandas as pd\n",
    "import numpy as np\n",
    "import matplotlib.pyplot as plt"
   ]
  },
  {
   "cell_type": "markdown",
   "metadata": {},
   "source": [
    "## 01\n",
    "Carga de datos de csv (valencia_pollution_dataset.csv) en un DataFrame"
   ]
  },
  {
   "cell_type": "code",
   "execution_count": 12,
   "metadata": {},
   "outputs": [
    {
     "data": {
      "text/html": [
       "<div>\n",
       "<style scoped>\n",
       "    .dataframe tbody tr th:only-of-type {\n",
       "        vertical-align: middle;\n",
       "    }\n",
       "\n",
       "    .dataframe tbody tr th {\n",
       "        vertical-align: top;\n",
       "    }\n",
       "\n",
       "    .dataframe thead th {\n",
       "        text-align: right;\n",
       "    }\n",
       "</style>\n",
       "<table border=\"1\" class=\"dataframe\">\n",
       "  <thead>\n",
       "    <tr style=\"text-align: right;\">\n",
       "      <th></th>\n",
       "      <th>objectid</th>\n",
       "      <th>nombre</th>\n",
       "      <th>direccion</th>\n",
       "      <th>tipozona</th>\n",
       "      <th>parametros</th>\n",
       "      <th>mediciones</th>\n",
       "      <th>so2</th>\n",
       "      <th>no2</th>\n",
       "      <th>o3</th>\n",
       "      <th>co</th>\n",
       "      <th>pm10</th>\n",
       "      <th>pm25</th>\n",
       "      <th>tipoemision</th>\n",
       "      <th>fecha_carga</th>\n",
       "      <th>calidad_ambiental</th>\n",
       "      <th>fiwareid</th>\n",
       "      <th>geo_shape</th>\n",
       "      <th>geo_point_2d</th>\n",
       "    </tr>\n",
       "  </thead>\n",
       "  <tbody>\n",
       "    <tr>\n",
       "      <th>0</th>\n",
       "      <td>26</td>\n",
       "      <td>Pista de Silla</td>\n",
       "      <td>C/ Filipinas, s/n</td>\n",
       "      <td>Urbana</td>\n",
       "      <td>NaN</td>\n",
       "      <td>NaN</td>\n",
       "      <td>0.0</td>\n",
       "      <td>10</td>\n",
       "      <td>71.0</td>\n",
       "      <td>0.7</td>\n",
       "      <td>8.0</td>\n",
       "      <td>3.0</td>\n",
       "      <td>Tráfico</td>\n",
       "      <td>2025-05-24T20:20:06+00:00</td>\n",
       "      <td>Razonablemente Buena</td>\n",
       "      <td>NaN</td>\n",
       "      <td>NaN</td>\n",
       "      <td>NaN</td>\n",
       "    </tr>\n",
       "    <tr>\n",
       "      <th>1</th>\n",
       "      <td>28</td>\n",
       "      <td>Viveros</td>\n",
       "      <td>Jardines de Viveros</td>\n",
       "      <td>Urbana</td>\n",
       "      <td>NaN</td>\n",
       "      <td>NaN</td>\n",
       "      <td>0.0</td>\n",
       "      <td>5</td>\n",
       "      <td>88.0</td>\n",
       "      <td>NaN</td>\n",
       "      <td>NaN</td>\n",
       "      <td>NaN</td>\n",
       "      <td>Fondo</td>\n",
       "      <td>2025-05-24T20:20:08+00:00</td>\n",
       "      <td>Razonablemente Buena</td>\n",
       "      <td>NaN</td>\n",
       "      <td>NaN</td>\n",
       "      <td>NaN</td>\n",
       "    </tr>\n",
       "    <tr>\n",
       "      <th>2</th>\n",
       "      <td>431</td>\n",
       "      <td>Olivereta</td>\n",
       "      <td>Av. del Cid amb Av. de les Tres Creus</td>\n",
       "      <td>Urbana</td>\n",
       "      <td>NaN</td>\n",
       "      <td>NaN</td>\n",
       "      <td>NaN</td>\n",
       "      <td>24</td>\n",
       "      <td>NaN</td>\n",
       "      <td>NaN</td>\n",
       "      <td>20.0</td>\n",
       "      <td>11.0</td>\n",
       "      <td>Tráfico</td>\n",
       "      <td>2025-05-24T20:20:11+00:00</td>\n",
       "      <td>Razonablemente Buena</td>\n",
       "      <td>NaN</td>\n",
       "      <td>NaN</td>\n",
       "      <td>NaN</td>\n",
       "    </tr>\n",
       "    <tr>\n",
       "      <th>3</th>\n",
       "      <td>432</td>\n",
       "      <td>Patraix</td>\n",
       "      <td>Archiduque Carlos, 84ac</td>\n",
       "      <td>Urbana</td>\n",
       "      <td>NaN</td>\n",
       "      <td>NaN</td>\n",
       "      <td>NaN</td>\n",
       "      <td>15</td>\n",
       "      <td>NaN</td>\n",
       "      <td>NaN</td>\n",
       "      <td>20.0</td>\n",
       "      <td>11.0</td>\n",
       "      <td>Tráfico</td>\n",
       "      <td>2025-05-24T20:20:12+00:00</td>\n",
       "      <td>Razonablemente Buena</td>\n",
       "      <td>NaN</td>\n",
       "      <td>NaN</td>\n",
       "      <td>NaN</td>\n",
       "    </tr>\n",
       "    <tr>\n",
       "      <th>4</th>\n",
       "      <td>23</td>\n",
       "      <td>Francia</td>\n",
       "      <td>Avda. de Francia, 60</td>\n",
       "      <td>Urbana</td>\n",
       "      <td>NaN</td>\n",
       "      <td>NaN</td>\n",
       "      <td>1.0</td>\n",
       "      <td>3</td>\n",
       "      <td>82.0</td>\n",
       "      <td>0.1</td>\n",
       "      <td>9.0</td>\n",
       "      <td>6.0</td>\n",
       "      <td>Tráfico</td>\n",
       "      <td>2025-05-24T20:20:04+00:00</td>\n",
       "      <td>Razonablemente Buena</td>\n",
       "      <td>NaN</td>\n",
       "      <td>NaN</td>\n",
       "      <td>NaN</td>\n",
       "    </tr>\n",
       "  </tbody>\n",
       "</table>\n",
       "</div>"
      ],
      "text/plain": [
       "   objectid          nombre                              direccion tipozona  \\\n",
       "0        26  Pista de Silla                      C/ Filipinas, s/n   Urbana   \n",
       "1        28         Viveros                    Jardines de Viveros   Urbana   \n",
       "2       431       Olivereta  Av. del Cid amb Av. de les Tres Creus   Urbana   \n",
       "3       432         Patraix                Archiduque Carlos, 84ac   Urbana   \n",
       "4        23         Francia                   Avda. de Francia, 60   Urbana   \n",
       "\n",
       "   parametros  mediciones  so2  no2    o3   co  pm10  pm25 tipoemision  \\\n",
       "0         NaN         NaN  0.0   10  71.0  0.7   8.0   3.0     Tráfico   \n",
       "1         NaN         NaN  0.0    5  88.0  NaN   NaN   NaN       Fondo   \n",
       "2         NaN         NaN  NaN   24   NaN  NaN  20.0  11.0     Tráfico   \n",
       "3         NaN         NaN  NaN   15   NaN  NaN  20.0  11.0     Tráfico   \n",
       "4         NaN         NaN  1.0    3  82.0  0.1   9.0   6.0     Tráfico   \n",
       "\n",
       "                 fecha_carga     calidad_ambiental  fiwareid  geo_shape  \\\n",
       "0  2025-05-24T20:20:06+00:00  Razonablemente Buena       NaN        NaN   \n",
       "1  2025-05-24T20:20:08+00:00  Razonablemente Buena       NaN        NaN   \n",
       "2  2025-05-24T20:20:11+00:00  Razonablemente Buena       NaN        NaN   \n",
       "3  2025-05-24T20:20:12+00:00  Razonablemente Buena       NaN        NaN   \n",
       "4  2025-05-24T20:20:04+00:00  Razonablemente Buena       NaN        NaN   \n",
       "\n",
       "   geo_point_2d  \n",
       "0           NaN  \n",
       "1           NaN  \n",
       "2           NaN  \n",
       "3           NaN  \n",
       "4           NaN  "
      ]
     },
     "execution_count": 12,
     "metadata": {},
     "output_type": "execute_result"
    }
   ],
   "source": [
    "\n",
    "# Archivo Dataset\n",
    "ruta_csv = 'valencia_pollution_dataset.csv'\n",
    "\n",
    "# Cargar los datos en un DataFrame\n",
    "df = pd.read_csv(ruta_csv)\n",
    "\n",
    "# muestra las primeras filas para confirmar que se ha cargado la info\n",
    "df.head()"
   ]
  },
  {
   "cell_type": "markdown",
   "metadata": {},
   "source": [
    "## 02\n",
    "- ¿Cuál es el rango temporal del dataset?\n",
    "- Obtención del número de estaciones que tienen un sensor para medir monóxido de carbono"
   ]
  },
  {
   "cell_type": "code",
   "execution_count": 13,
   "metadata": {},
   "outputs": [
    {
     "name": "stdout",
     "output_type": "stream",
     "text": [
      "Rango temporal del dataset: desde 2025-05-24 hasta 2025-05-26\n"
     ]
    }
   ],
   "source": [
    "# Asegurarse de que la columna sea datetime\n",
    "df['fecha_carga'] = pd.to_datetime(df['fecha_carga'], errors='coerce')\n",
    "\n",
    "# Obtener fechas válidas\n",
    "fechas_validas = df['fecha_carga'].dropna()\n",
    "\n",
    "# Rango temporal\n",
    "fecha_min = fechas_validas.min()\n",
    "fecha_max = fechas_validas.max()\n",
    "\n",
    "print(f\"Rango temporal del dataset: desde {fecha_min.date()} hasta {fecha_max.date()}\")"
   ]
  },
  {
   "cell_type": "code",
   "execution_count": 14,
   "metadata": {},
   "outputs": [
    {
     "name": "stdout",
     "output_type": "stream",
     "text": [
      "Número de estaciones con sensor de monóxido de carbono (CO): 3\n"
     ]
    }
   ],
   "source": [
    "# contar estaciones considerando que tenga al menos un dato (no nulo)\n",
    "estaciones_con_co = df[df['co'].notna()]['objectid'].nunique()\n",
    "print(f\"Número de estaciones con sensor de monóxido de carbono (CO): {estaciones_con_co}\")"
   ]
  },
  {
   "cell_type": "markdown",
   "metadata": {},
   "source": [
    "## 03\n",
    "\n",
    "- Número de estación con la media más alta de mediciones de monóxido de carbono"
   ]
  },
  {
   "cell_type": "code",
   "execution_count": 15,
   "metadata": {},
   "outputs": [
    {
     "name": "stdout",
     "output_type": "stream",
     "text": [
      "ID de estación con mayor media de CO: 26\n",
      "Nombre de la estación: Pista de Silla\n",
      "Media de CO: 0.7\n"
     ]
    }
   ],
   "source": [
    "# Agrupar por estación y calcular la media de CO\n",
    "media_co_por_estacion = df.groupby('objectid')['co'].mean()\n",
    "\n",
    "# Encontrar el ID con la media más alta\n",
    "id_max_co = media_co_por_estacion.idxmax()\n",
    "valor_max_co = media_co_por_estacion.max()\n",
    "\n",
    "# Obtener el nombre de la estación correspondiente\n",
    "nombre_estacion = df.loc[df['objectid'] == id_max_co, 'nombre'].iloc[0]\n",
    "\n",
    "# Mostrar resultados\n",
    "print(f\"ID de estación con mayor media de CO: {id_max_co}\")\n",
    "print(f\"Nombre de la estación: {nombre_estacion}\")\n",
    "print(f\"Media de CO: {valor_max_co}\")"
   ]
  },
  {
   "cell_type": "markdown",
   "metadata": {},
   "source": [
    "## 04\n",
    "Realizar el histograma de dióxido de nitrógeno de la estación del punto anterior"
   ]
  },
  {
   "cell_type": "code",
   "execution_count": 16,
   "metadata": {},
   "outputs": [
    {
     "data": {
      "image/png": "[encoded data removed]",
      "text/plain": [
       "<Figure size 800x500 with 1 Axes>"
      ]
     },
     "metadata": {},
     "output_type": "display_data"
    }
   ],
   "source": [
    "# Filtrar los datos para la estación con ID 26 (Pista de Silla)\n",
    "estacion_filtrada = df[df['objectid'] == id_max_co]\n",
    "\n",
    "# Verificar si existen datos válidos de NO2\n",
    "if estacion_filtrada['no2'].notna().sum() > 0:\n",
    "    # Crear histograma\n",
    "    plt.figure(figsize=(8, 5))\n",
    "    plt.hist(estacion_filtrada['no2'].dropna(), bins=10, edgecolor='black')\n",
    "    plt.title(f'Histograma de NO2 - Estación Pista de Silla (ID {id_max_co})')\n",
    "    plt.xlabel('Nivel de NO2 (dióxido de nitrógeno)')\n",
    "    plt.ylabel('Frecuencia')\n",
    "    plt.grid(True)\n",
    "    plt.show()\n",
    "else:\n",
    "    print(\"No hay datos válidos de NO2 para esta estación.\")\t"
   ]
  },
  {
   "cell_type": "markdown",
   "metadata": {},
   "source": [
    "## 05\n",
    "Realizar gráfica con  la línea temporal de las mediciones de ozono de la estación del punto anterior. Pista, la columna 'fecha_carga' habría que cambiarla de tipo."
   ]
  },
  {
   "cell_type": "code",
   "execution_count": 20,
   "metadata": {},
   "outputs": [
    {
     "data": {
      "image/png": "[encoded data removed]",
      "text/plain": [
       "<Figure size 1000x500 with 1 Axes>"
      ]
     },
     "metadata": {},
     "output_type": "display_data"
    }
   ],
   "source": [
    "# Asegurar que la columna 'fecha_carga' esté en formato datetime\n",
    "df['fecha_carga'] = pd.to_datetime(df['fecha_carga'], errors='coerce')\n",
    "\n",
    "# Filtrar la estación con ID 26 (Pista de Silla)\n",
    "ozono_estacion = df[df['objectid'] == id_max_co]\n",
    "\n",
    "# Crear gráfico de línea\n",
    "plt.figure(figsize=(10, 5))\n",
    "plt.plot(ozono_estacion['fecha_carga'], ozono_estacion['o3'], marker='o', linestyle='-')\n",
    "plt.title(f'Línea temporal de O3 - Estación Pista de Silla (ID {id_max_co})')\n",
    "plt.xlabel('Fecha')\n",
    "plt.ylabel('Nivel de O3')\n",
    "plt.grid(True)\n",
    "plt.xticks(rotation=45)\n",
    "plt.tight_layout()\n",
    "plt.show()\n",
    "\n"
   ]
  }
 ],
 "metadata": {
  "kernelspec": {
   "display_name": "Python 3 (ipykernel)",
   "language": "python",
   "name": "python3"
  },
  "language_info": {
   "codemirror_mode": {
    "name": "ipython",
    "version": 3
   },
   "file_extension": ".py",
   "mimetype": "text/x-python",
   "name": "python",
   "nbconvert_exporter": "python",
   "pygments_lexer": "ipython3",
   "version": "3.12.2"
  }
 },
 "nbformat": 4,
 "nbformat_minor": 4
}
