{
 "cells": [
  {
   "cell_type": "markdown",
   "id": "a8b00109-57ec-418a-a616-17985a1c284d",
   "metadata": {},
   "source": [
    "# Introducción\n",
    "\n",
    "En el contexto del análisis de datos y la inteligencia artificial, uno de los desafíos más comunes es el manejo eficiente de grandes volúmenes de datos que superan la capacidad de la memoria RAM. Lenguajes como Python ofrecen diversas herramientas para abordar este problema, siendo `NumPy` una de las bibliotecas fundamentales para la computación numérica. Dentro de esta, la función `numpy.memmap` permite crear arreglos mapeados a memoria, una técnica que habilita el procesamiento parcial de archivos de gran tamaño directamente desde el disco sin necesidad de cargarlos completamente en memoria.\n",
    "\n",
    "Esta funcionalidad resulta especialmente útil en entornos donde se trabaja con grandes matrices, como el entrenamiento de modelos de aprendizaje profundo, la simulación científica o el procesamiento de imágenes satelitales. A través del mapeo de memoria, es posible acceder eficientemente a porciones específicas de los datos y realizar operaciones en bloques, reduciendo considerablemente el uso de recursos.\n",
    "\n",
    "En este trabajo se analizará el uso de `numpy.memmap` como técnica para optimizar el manejo de arrays de gran tamaño, partiendo del artículo científico *\"mmappickle: Python 3 module to store memory‑mapped NumPy array in pickle format\"* de Laurent Fasnacht (2018), publicado en *The Journal of Open Source Software*. También se revisará un recurso técnico complementario de la plataforma Comet, el cual explica de forma clara y aplicada los modos de acceso, ventajas y limitaciones del uso de memoria mapeada en proyectos de IA.\n",
    "\n",
    "Finalmente, se presentarán algunos ejemplos prácticos en Python para ilustrar su funcionamiento, junto con un análisis comparativo frente a otras alternativas como HDF5 y Zarr.\n"
   ]
  },
  {
   "cell_type": "markdown",
   "id": "75badb2d-6aa6-4ca3-8004-f04282a32393",
   "metadata": {},
   "source": [
    "## Resumen del artículo académico: mmappickle\n",
    "\n",
    "El artículo *\"mmappickle: Python 3 module to store memory-mapped NumPy array in pickle format\"*, publicado por Laurent Fasnacht en 2018 en *The Journal of Open Source Software*, presenta una solución innovadora para trabajar con arrays de gran tamaño en Python sin sobrecargar la memoria RAM del sistema.\n",
    "\n",
    "El módulo propuesto, `mmappickle`, extiende la funcionalidad de `numpy.memmap`, permitiendo almacenar arrays como archivos mapeados a memoria, mientras que los metadatos y configuraciones asociadas se conservan usando el formato `pickle`. Esto permite una persistencia eficiente de los datos y una recuperación completa del objeto en ejecuciones futuras del programa, sin necesidad de leer todo el contenido en memoria.\n",
    "\n",
    "El autor destaca que `mmappickle` resulta útil en contextos donde se requiere manipular archivos de datos muy grandes (por ejemplo, simulaciones numéricas o conjuntos de entrenamiento para modelos de aprendizaje automático), ya que permite acceder de manera eficiente a partes específicas del array, reduciendo significativamente el uso de RAM.\n",
    "\n",
    "Además, el artículo menciona que `mmappickle` ofrece ventajas sobre métodos tradicionales de serialización como `pickle`, `joblib` o `np.save`, ya que estos requieren que el objeto se cargue completo en memoria. Por el contrario, al usar mapeo a memoria, `mmappickle` hace posible el acceso diferido o parcial a los datos, y su estructura modular lo hace compatible con procesos de lectura y escritura concurrentes.\n",
    "\n",
    "En resumen, esta herramienta representa una mejora sustancial en el manejo de grandes volúmenes de datos numéricos en Python, siendo particularmente relevante para aplicaciones en ciencia de datos, inteligencia artificial y simulaciones computacionales.\n",
    "\n",
    "> Referencia:  \n",
    "> Fasnacht, L. (2018). mmappickle: Python 3 module to store memory-mapped NumPy array in pickle format. *The Journal of Open Source Software*, 3(26), 651. https://doi.org/10.21105/joss.00651\n"
   ]
  },
  {
   "cell_type": "markdown",
   "id": "7868afeb-7371-4bdc-8edf-e7da4b00baab",
   "metadata": {},
   "source": [
    "## Resumen del artículo técnico complementario (Comet)\n",
    "\n",
    "El artículo técnico titulado *\"Understanding Memory Mapping in NumPy for Deep Learning: Part 1\"*, publicado por Comet en 2023, ofrece una explicación clara y práctica sobre el uso de `numpy.memmap` como herramienta para trabajar con grandes volúmenes de datos en entornos de aprendizaje automático. A través de ejemplos sencillos y gráficos, se expone cómo esta técnica permite acceder a datos directamente desde el disco, sin necesidad de cargarlos completamente en memoria RAM.\n",
    "\n",
    "La publicación comienza explicando el concepto de \"memory mapping\" (mapeo de memoria), que consiste en vincular un archivo binario en disco con una porción de la memoria virtual del programa. Esta técnica permite tratar el archivo como si fuera un array de NumPy, accediendo a sus elementos como si estuvieran en memoria, aunque realmente se encuentren en el disco duro.\n",
    "\n",
    "El artículo describe los diferentes modos de acceso disponibles en `numpy.memmap`:\n",
    "- `'r'`: solo lectura,\n",
    "- `'r+'`: lectura y escritura,\n",
    "- `'w+'`: escritura con sobreescritura total,\n",
    "- `'c'`: escritura con copia diferida (copy-on-write).\n",
    "\n",
    "También se destacan ventajas clave de esta técnica, como el ahorro de memoria, la posibilidad de trabajar con archivos muy grandes en máquinas con recursos limitados y la reducción del tiempo de carga en operaciones repetidas. Además, se proporcionan recomendaciones sobre cuándo es adecuado usar `memmap`, así como limitaciones importantes: por ejemplo, el rendimiento puede verse afectado si se accede a los datos de forma aleatoria o desordenada, ya que esto genera muchas operaciones de disco.\n",
    "\n",
    "En resumen, el blog de Comet presenta `numpy.memmap` como una herramienta poderosa para proyectos de deep learning y procesamiento masivo de datos, especialmente cuando se requiere eficiencia y escalabilidad sin comprometer los recursos del sistema.\n",
    "\n",
    "> Referencia:  \n",
    "> Comet. (2023). *Understanding Memory Mapping in NumPy for Deep Learning: Part 1*. Recuperado de: https://www.comet.com/site/blog/understanding-memory-mapping-in-numpy-for-deep-learning-pt-1/\n"
   ]
  },
  {
   "cell_type": "markdown",
   "id": "bd799710-84db-4c69-aa70-fdbd6a5e9920",
   "metadata": {},
   "source": [
    "## Análisis comparativo: `numpy.memmap` vs otras alternativas\n",
    "\n",
    "El uso de `numpy.memmap` representa una solución directa y eficiente para trabajar con arreglos grandes en archivos binarios, pero no es la única herramienta disponible en el ecosistema Python. En esta sección se comparan varias alternativas utilizadas en la manipulación de datos masivos, evaluando sus principales características, ventajas y limitaciones.\n",
    "\n",
    "### 1. `numpy.memmap`\n",
    "**_*<mark style=\"background-color:#d6f5d6;\">Ventajas:</mark>*_**\n",
    "- Permite trabajar con archivos binarios muy grandes sin cargarlos completamente en RAM.\n",
    "- Acceso tipo array (`[]`) a los datos.\n",
    "- Ideal para operaciones secuenciales y simples.\n",
    "\n",
    "**_*<mark style=\"background-color:#f7d6d6;\">Limitaciones:</mark>*_**\n",
    "- No guarda metadatos.\n",
    "- No soporta estructuras jerárquicas o formatos autoexplicativos.\n",
    "- Accesos aleatorios o desordenados pueden ser lentos.\n",
    "\n",
    "**_Usos ideales_**: procesamiento secuencial de arrays numéricos masivos, simulaciones científicas, preprocesamiento de datos para IA.\n",
    "\n",
    "---\n",
    "\n",
    "### 2. `mmappickle`\n",
    "**_*<mark style=\"background-color:#d6f5d6;\">Ventajas:</mark>*_**\n",
    "- Complementa a `memmap` al incluir soporte de metadatos y serialización mediante `pickle`.\n",
    "- Permite guardar arrays en disco con información adicional de forma persistente.\n",
    "- Compatible con `numpy.load` y procesos que usen serialización estándar.\n",
    "\n",
    "**_*<mark style=\"background-color:#f7d6d6;\">Limitaciones:</mark>*_**\n",
    "- Depende del módulo `pickle`, lo cual puede ser problemático en entornos de alta seguridad.\n",
    "- Menos conocido y con menor documentación que otros formatos.\n",
    "\n",
    "**_Usos ideales_**: almacenamiento de arrays mapeados que necesitan conservar estructura y metainformación.\n",
    "\n",
    "---\n",
    "\n",
    "### 3. HDF5 (`h5py`)\n",
    "**_*<mark style=\"background-color:#d6f5d6;\">Ventajas:</mark>*_**\n",
    "- Formato binario estándar en ciencia de datos.\n",
    "- Soporta jerarquías, compresión, metadatos y acceso parcial a los datos.\n",
    "- Uso muy extendido en bioinformática, física y deep learning.\n",
    "\n",
    "**_*<mark style=\"background-color:#f7d6d6;\">Limitaciones:</mark>*_**\n",
    "- Más complejo de usar que `memmap`.\n",
    "- El rendimiento puede ser menor en ciertos escenarios de acceso muy frecuente o en paralelo.\n",
    "\n",
    "**_Usos ideales_**: datasets complejos con múltiples variables, estructuras multidimensionales, colaboración entre sistemas.\n",
    "\n",
    "---\n",
    "\n",
    "### 4. Zarr\n",
    "**_*<mark style=\"background-color:#d6f5d6;\">Ventajas:</mark>*_**\n",
    "- Orientado al almacenamiento distribuido y en la nube.\n",
    "- Soporte para compresión, paralelismo y acceso concurrente.\n",
    "- Muy eficiente en operaciones paralelas sobre discos SSD o almacenamiento remoto.\n",
    "\n",
    "**_*<mark style=\"background-color:#f7d6d6;\">Limitaciones:</mark>*_**\n",
    "- Requiere librerías adicionales.\n",
    "- Menor madurez que HDF5, aunque en rápido crecimiento.\n",
    "\n",
    "**_Usos ideales_**: proyectos distribuidos, ciencia de datos en la nube, pipelines de machine learning escalables.\n",
    "\n",
    "---\n",
    "\n",
    "### Conclusión comparativa\n",
    "\n",
    "Cada herramienta tiene su nicho específico. `numpy.memmap` destaca por su simplicidad y velocidad en tareas locales y secuenciales, mientras que `mmappickle` aporta capacidad de serialización estructurada sin perder eficiencia. Por otro lado, HDF5 y Zarr ofrecen soluciones más completas para grandes volúmenes de datos jerárquicos, especialmente en entornos colaborativos o distribuidos.\n",
    "\n",
    "La elección depende del tamaño del conjunto de datos, el flujo de trabajo requerido y las necesidades específicas del proyecto.\n"
   ]
  },
  {
   "cell_type": "markdown",
   "id": "eca38fa7-8ae9-46b8-a8b1-ed773541adcf",
   "metadata": {},
   "source": [
    "## Ejemplos en Python con `numpy.memmap`\n",
    "\n",
    "A continuación se presentan ejemplos prácticos del uso de `numpy.memmap`. Este tipo de arreglo se comporta como un `ndarray` normal, pero accede a los datos directamente desde el disco. Es ideal para trabajar con archivos grandes que no caben completamente en memoria.\n",
    "\n",
    "### 1. Crear un archivo binario grande con `memmap`\n",
    "Creamos un archivo con 100 millones de elementos tipo `float32`, lo que representa aproximadamente 400 MB de datos.\n"
   ]
  },
  {
   "cell_type": "code",
   "execution_count": 2,
   "id": "014c2079-f8e0-4b14-9cc4-70dde972f90f",
   "metadata": {},
   "outputs": [],
   "source": [
    "import numpy as np\n",
    "\n",
    "# Crear un archivo de 100 millones de floats (~400 MB)\n",
    "filename = 'big_array.dat'\n",
    "shape = (100_000_000,)  # 100 millones de elementos\n",
    "\n",
    "# Crear el memmap en modo escritura (sobrescribe si ya existe)\n",
    "data = np.memmap(filename, dtype='float32', mode='w+', shape=shape)\n",
    "\n",
    "# Inicializar con valores (por ejemplo: índice * 0.5)\n",
    "data[:] = np.arange(shape[0]) * 0.5\n",
    "\n",
    "# Asegurarse de escribir los datos en disco\n",
    "data.flush()\n",
    "\n",
    "# Liberar memoria (importante)\n",
    "del data\n"
   ]
  },
  {
   "cell_type": "markdown",
   "id": "6defb4d8-e704-4e88-ad20-3ddb01c31a85",
   "metadata": {},
   "source": [
    "### 2. Leer el archivo mapeado como array sin cargarlo entero en memoria\n",
    "Se puede acceder a segmentos del archivo sin cargar todo.\n"
   ]
  },
  {
   "cell_type": "code",
   "execution_count": 3,
   "id": "056b669b-b0c4-4966-9eee-42a18b16157d",
   "metadata": {},
   "outputs": [
    {
     "name": "stdout",
     "output_type": "stream",
     "text": [
      "Primeros valores: [0.  0.5 1.  1.5 2.  2.5 3.  3.5 4.  4.5]\n",
      "Segmento 1 millón: [500000.  500000.5 500001.  500001.5 500002.  500002.5 500003.  500003.5\n",
      " 500004.  500004.5]\n"
     ]
    }
   ],
   "source": [
    "# Reabrir el archivo en modo solo lectura\n",
    "data = np.memmap(filename, dtype='float32', mode='r', shape=shape)\n",
    "\n",
    "# Leer los primeros 10 elementos\n",
    "print(\"Primeros valores:\", data[:10])\n",
    "\n",
    "# Leer un segmento específico\n",
    "segment = data[1_000_000:1_000_010]\n",
    "print(\"Segmento 1 millón:\", segment)\n",
    "\n",
    "# Liberar recursos\n",
    "del data\n"
   ]
  },
  {
   "cell_type": "markdown",
   "id": "fad29c6f-c841-460e-9173-0cebeb215b69",
   "metadata": {},
   "source": [
    "### 3. Procesamiento por bloques (acceso secuencial eficiente)\n",
    "Procesar el archivo por partes para, por ejemplo, calcular la suma de todos los elementos sin desbordar la memoria.\n"
   ]
  },
  {
   "cell_type": "code",
   "execution_count": 4,
   "id": "bc906cbe-3cf8-458f-9acc-971273e25809",
   "metadata": {},
   "outputs": [
    {
     "name": "stdout",
     "output_type": "stream",
     "text": [
      "Suma total del array: 2500000000000000.0\n"
     ]
    }
   ],
   "source": [
    "# Reabrir en modo lectura\n",
    "data = np.memmap(filename, dtype='float32', mode='r', shape=shape)\n",
    "\n",
    "block_size = 1_000_000  # Leer 1 millón de elementos por bloque\n",
    "total_sum = 0.0\n",
    "\n",
    "for i in range(0, shape[0], block_size):\n",
    "    block = data[i:i+block_size]\n",
    "    total_sum += np.sum(block)\n",
    "\n",
    "print(\"Suma total del array:\", total_sum)\n",
    "\n",
    "del data\n"
   ]
  },
  {
   "cell_type": "markdown",
   "id": "3f8a889a-54d4-4b06-886c-73038f889d33",
   "metadata": {},
   "source": [
    "### 4. Comparación de consumo de memoria\n",
    "Usamos la biblioteca `psutil` para comprobar que el uso de memoria se mantiene bajo.\n"
   ]
  },
  {
   "cell_type": "code",
   "execution_count": 5,
   "id": "6f756c1b-46d3-4e41-8dd4-4f52057df5b0",
   "metadata": {},
   "outputs": [
    {
     "name": "stdout",
     "output_type": "stream",
     "text": [
      "Uso de memoria actual (MB): 433.4140625\n"
     ]
    }
   ],
   "source": [
    "import psutil\n",
    "import os\n",
    "\n",
    "process = psutil.Process(os.getpid())\n",
    "print(\"Uso de memoria actual (MB):\", process.memory_info().rss / 1024 / 1024)\n"
   ]
  },
  {
   "cell_type": "markdown",
   "id": "d664eaaa-91b8-46d0-81e7-7320cb2b3dfd",
   "metadata": {},
   "source": [
    "## Comparación de tiempo y uso de memoria: `memmap` vs `np.load`\n",
    "\n",
    "A continuación se mide el tiempo y el uso de memoria requerido para cargar un mismo array usando dos métodos distintos: `np.memmap` y `np.load`.\n",
    "\n",
    "Para una comparación justa, se parte del mismo array y se guarda en dos formatos: `.dat` (binario para memmap) y `.npy` (binario para `np.load`).\n"
   ]
  },
  {
   "cell_type": "code",
   "execution_count": 12,
   "id": "68c26a71-a7f7-4e62-a7bd-86dcf20270fc",
   "metadata": {},
   "outputs": [
    {
     "ename": "OSError",
     "evalue": "[Errno 22] Invalid argument: 'big_array.dat'",
     "output_type": "error",
     "traceback": [
      "\u001b[31m---------------------------------------------------------------------------\u001b[39m",
      "\u001b[31mOSError\u001b[39m                                   Traceback (most recent call last)",
      "\u001b[36mCell\u001b[39m\u001b[36m \u001b[39m\u001b[32mIn[12]\u001b[39m\u001b[32m, line 16\u001b[39m\n\u001b[32m     13\u001b[39m np.save(filename_npy, array)\n\u001b[32m     15\u001b[39m \u001b[38;5;66;03m# Crear archivo .dat directamente con memmap en modo escritura (crea y sobreescribe)\u001b[39;00m\n\u001b[32m---> \u001b[39m\u001b[32m16\u001b[39m data_memmap = \u001b[43mnp\u001b[49m\u001b[43m.\u001b[49m\u001b[43mmemmap\u001b[49m\u001b[43m(\u001b[49m\u001b[43mfilename_dat\u001b[49m\u001b[43m,\u001b[49m\u001b[43m \u001b[49m\u001b[43mdtype\u001b[49m\u001b[43m=\u001b[49m\u001b[33;43m'\u001b[39;49m\u001b[33;43mfloat32\u001b[39;49m\u001b[33;43m'\u001b[39;49m\u001b[43m,\u001b[49m\u001b[43m \u001b[49m\u001b[43mmode\u001b[49m\u001b[43m=\u001b[49m\u001b[33;43m'\u001b[39;49m\u001b[33;43mw+\u001b[39;49m\u001b[33;43m'\u001b[39;49m\u001b[43m,\u001b[49m\u001b[43m \u001b[49m\u001b[43mshape\u001b[49m\u001b[43m=\u001b[49m\u001b[43mshape\u001b[49m\u001b[43m)\u001b[49m\n\u001b[32m     18\u001b[39m \u001b[38;5;66;03m# Escribir datos\u001b[39;00m\n\u001b[32m     19\u001b[39m data_memmap[:] = array\n",
      "\u001b[36mFile \u001b[39m\u001b[32mC:\\Python312\\Lib\\site-packages\\numpy\\_core\\memmap.py:234\u001b[39m, in \u001b[36mmemmap.__new__\u001b[39m\u001b[34m(subtype, filename, dtype, mode, offset, shape, order)\u001b[39m\n\u001b[32m    232\u001b[39m     f_ctx = nullcontext(filename)\n\u001b[32m    233\u001b[39m \u001b[38;5;28;01melse\u001b[39;00m:\n\u001b[32m--> \u001b[39m\u001b[32m234\u001b[39m     f_ctx = \u001b[38;5;28;43mopen\u001b[39;49m\u001b[43m(\u001b[49m\n\u001b[32m    235\u001b[39m \u001b[43m        \u001b[49m\u001b[43mos\u001b[49m\u001b[43m.\u001b[49m\u001b[43mfspath\u001b[49m\u001b[43m(\u001b[49m\u001b[43mfilename\u001b[49m\u001b[43m)\u001b[49m\u001b[43m,\u001b[49m\n\u001b[32m    236\u001b[39m \u001b[43m        \u001b[49m\u001b[43m(\u001b[49m\u001b[33;43m'\u001b[39;49m\u001b[33;43mr\u001b[39;49m\u001b[33;43m'\u001b[39;49m\u001b[43m \u001b[49m\u001b[38;5;28;43;01mif\u001b[39;49;00m\u001b[43m \u001b[49m\u001b[43mmode\u001b[49m\u001b[43m \u001b[49m\u001b[43m==\u001b[49m\u001b[43m \u001b[49m\u001b[33;43m'\u001b[39;49m\u001b[33;43mc\u001b[39;49m\u001b[33;43m'\u001b[39;49m\u001b[43m \u001b[49m\u001b[38;5;28;43;01melse\u001b[39;49;00m\u001b[43m \u001b[49m\u001b[43mmode\u001b[49m\u001b[43m)\u001b[49m\u001b[43m+\u001b[49m\u001b[33;43m'\u001b[39;49m\u001b[33;43mb\u001b[39;49m\u001b[33;43m'\u001b[39;49m\n\u001b[32m    237\u001b[39m \u001b[43m    \u001b[49m\u001b[43m)\u001b[49m\n\u001b[32m    239\u001b[39m \u001b[38;5;28;01mwith\u001b[39;00m f_ctx \u001b[38;5;28;01mas\u001b[39;00m fid:\n\u001b[32m    240\u001b[39m     fid.seek(\u001b[32m0\u001b[39m, \u001b[32m2\u001b[39m)\n",
      "\u001b[31mOSError\u001b[39m: [Errno 22] Invalid argument: 'big_array.dat'"
     ]
    }
   ],
   "source": [
    "import numpy as np\n",
    "import os\n",
    "\n",
    "# Parámetros\n",
    "shape = (50_000_000,)  # ~200 MB\n",
    "filename_dat = 'big_array.dat'\n",
    "filename_npy = 'big_array.npy'\n",
    "\n",
    "# Crear array base\n",
    "array = np.arange(shape[0], dtype='float32') * 0.5\n",
    "\n",
    "# Guardar como .npy\n",
    "np.save(filename_npy, array)\n",
    "\n",
    "# Crear archivo .dat directamente con memmap en modo escritura (crea y sobreescribe)\n",
    "data_memmap = np.memmap(filename_dat, dtype='float32', mode='w+', shape=shape)\n",
    "\n",
    "# Escribir datos\n",
    "data_memmap[:] = array\n",
    "data_memmap.flush()\n",
    "del data_memmap\n",
    "del array\n"
   ]
  },
  {
   "cell_type": "code",
   "execution_count": 9,
   "id": "ec30e698-3c25-4a92-b06e-4b7c6b771e03",
   "metadata": {},
   "outputs": [],
   "source": [
    "import time\n",
    "import psutil\n",
    "\n",
    "def benchmark_load(method, path, dtype='float32', shape=None):\n",
    "    process = psutil.Process(os.getpid())\n",
    "    mem_before = process.memory_info().rss / 1024 / 1024\n",
    "\n",
    "    start = time.time()\n",
    "    if method == \"memmap\":\n",
    "        data = np.memmap(path, dtype=dtype, mode='r', shape=shape)\n",
    "    elif method == \"npload\":\n",
    "        data = np.load(path)\n",
    "    elapsed = time.time() - start\n",
    "\n",
    "    mem_after = process.memory_info().rss / 1024 / 1024\n",
    "    mem_used = mem_after - mem_before\n",
    "\n",
    "    # Forzar acceso mínimo para asegurar que se lea algo\n",
    "    _ = data[0:1000]\n",
    "    del data\n",
    "\n",
    "    return elapsed, mem_used\n"
   ]
  },
  {
   "cell_type": "code",
   "execution_count": 10,
   "id": "dd14f897-c427-4216-8931-034b9ec48e9a",
   "metadata": {},
   "outputs": [
    {
     "data": {
      "image/png": "[encoded data removed]",
      "text/plain": [
       "<Figure size 1000x400 with 2 Axes>"
      ]
     },
     "metadata": {},
     "output_type": "display_data"
    }
   ],
   "source": [
    "import matplotlib.pyplot as plt\n",
    "\n",
    "# Ejecutar comparación\n",
    "memmap_time, memmap_mem = benchmark_load(\"memmap\", filename_dat, shape=shape)\n",
    "npload_time, npload_mem = benchmark_load(\"npload\", filename_npy)\n",
    "\n",
    "# Visualizar resultados\n",
    "labels = ['memmap', 'np.load']\n",
    "times = [memmap_time, npload_time]\n",
    "memory = [memmap_mem, npload_mem]\n",
    "\n",
    "fig, ax = plt.subplots(1, 2, figsize=(10, 4))\n",
    "\n",
    "ax[0].bar(labels, times, color='lightblue')\n",
    "ax[0].set_ylabel('Segundos')\n",
    "ax[0].set_title('Tiempo de carga')\n",
    "\n",
    "ax[1].bar(labels, memory, color='lightcoral')\n",
    "ax[1].set_ylabel('MB')\n",
    "ax[1].set_title('Memoria usada')\n",
    "\n",
    "plt.suptitle('Comparativa: memmap vs np.load')\n",
    "plt.tight_layout()\n",
    "plt.show()\n"
   ]
  },
  {
   "cell_type": "markdown",
   "id": "50f33eea-caf3-4d47-837f-27cfed631338",
   "metadata": {},
   "source": [
    "## Comparación práctica: `memmap` vs `np.load` vs `joblib`\n",
    "\n",
    "- **`numpy.memmap`**: accede al archivo como si fuera un array, pero sin cargarlo completamente en memoria. Ideal para archivos muy grandes y acceso secuencial. No guarda metadatos automáticamente.\n",
    "  \n",
    "- **`numpy.load`**: carga todo el archivo `.npy` en memoria. Rápido y simple para archivos pequeños o medianos. No es eficiente con archivos de más de 1–2 GB si no hay suficiente RAM disponible.\n",
    "\n",
    "- **`joblib.load`**: permite cargar objetos más complejos que solo arrays, como modelos o estructuras anidadas. Usa compresión por defecto. Aunque puede usarse con arrays grandes, no es tan eficiente en acceso parcial como `memmap`.\n",
    "\n",
    "### Cuadro resumen\n",
    "\n",
    "| Método        | ¿Carga todo en RAM? | ¿Acceso parcial? | ¿Guarda metadatos? | Mejor uso          |\n",
    "|---------------|---------------------|------------------|---------------------|---------------------|\n",
    "| `memmap`      | No                  | Sí               | No                  | Archivos grandes    |\n",
    "| `np.load`     | Sí                  | No               | Sí (limitado)       | Carga rápida general|\n",
    "| `joblib.load` | Sí (comprimido)     | Parcial (con esfuerzo) | Sí            | Modelos, objetos más complejos |\n"
   ]
  },
  {
   "cell_type": "code",
   "execution_count": null,
   "id": "63b095cf-748a-4f83-bd98-75b42991effc",
   "metadata": {},
   "outputs": [],
   "source": []
  }
 ],
 "metadata": {
  "kernelspec": {
   "display_name": "Python 3 (ipykernel)",
   "language": "python",
   "name": "python3"
  },
  "language_info": {
   "codemirror_mode": {
    "name": "ipython",
    "version": 3
   },
   "file_extension": ".py",
   "mimetype": "text/x-python",
   "name": "python",
   "nbconvert_exporter": "python",
   "pygments_lexer": "ipython3",
   "version": "3.12.2"
  }
 },
 "nbformat": 4,
 "nbformat_minor": 5
}
